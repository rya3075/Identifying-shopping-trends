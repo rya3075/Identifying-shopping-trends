{
  "nbformat": 4,
  "nbformat_minor": 0,
  "metadata": {
    "colab": {
      "provenance": [],
      "gpuType": "T4",
      "authorship_tag": "ABX9TyO9DIJ0j9B5L95pCNgtFdXw",
      "include_colab_link": true
    },
    "kernelspec": {
      "name": "python3",
      "display_name": "Python 3"
    },
    "language_info": {
      "name": "python"
    },
    "accelerator": "GPU"
  },
  "cells": [
    {
      "cell_type": "markdown",
      "metadata": {
        "id": "view-in-github",
        "colab_type": "text"
      },
      "source": [
        "<a href=\"https://colab.research.google.com/github/rya3075/Identifying-shopping-trends/blob/main/vit.ipynb\" target=\"_parent\"><img src=\"https://colab.research.google.com/assets/colab-badge.svg\" alt=\"Open In Colab\"/></a>"
      ]
    },
    {
      "cell_type": "code",
      "execution_count": 1,
      "metadata": {
        "id": "qKqsCCahPvDr"
      },
      "outputs": [],
      "source": [
        "import torch\n",
        "import torch.nn as nn\n",
        "import torchvision.transforms as T\n",
        "from torch.optim import Adam\n",
        "from torchvision.datasets import FashionMNIST\n",
        "from torch.utils.data import DataLoader\n",
        "import numpy as np"
      ]
    },
    {
      "cell_type": "code",
      "source": [
        "#Patch Embedding\n",
        "\n",
        "class PatchEmbedding(nn.Module):\n",
        "  def __init__(self, d_model, img_size, patch_size, n_channels):\n",
        "    super().__init__()\n",
        "\n",
        "    self.d_model = d_model # Dimensionality of Model\n",
        "    self.img_size = img_size # Image Size\n",
        "    self.patch_size = patch_size # Patch Size\n",
        "    self.n_channels = n_channels # Number of Channels\n",
        "\n",
        "    self.linear_project = nn.Conv2d(self.n_channels, self.d_model, kernel_size=self.patch_size, stride=self.patch_size)\n",
        "\n",
        "  # B: Batch Size\n",
        "  # C: Image Channels\n",
        "  # H: Image Height\n",
        "  # W: Image Width\n",
        "  # P_col: Patch Column\n",
        "  # P_row: Patch Row\n",
        "  def forward(self, x):\n",
        "    x = self.linear_project(x) # (B, C, H, W) -> (B, d_model, P_col, P_row)\n",
        "\n",
        "    x = x.flatten(2) # (B, d_model, P_col, P_row) -> (B, d_model, P)\n",
        "\n",
        "    x = x.transpose(1, 2) # (B, d_model, P) -> (B, P, d_model)\n",
        "\n",
        "    return x"
      ],
      "metadata": {
        "id": "ScA54kQKPwMw"
      },
      "execution_count": 2,
      "outputs": []
    },
    {
      "cell_type": "code",
      "source": [
        "# Class token and Positional Encoding\n",
        "\n",
        "class PositionalEncoding(nn.Module):\n",
        "  def __init__(self, d_model, max_seq_length):\n",
        "    super().__init__()\n",
        "\n",
        "    self.cls_token = nn.Parameter(torch.randn(1, 1, d_model)) # Classification Token\n",
        "\n",
        "    # Creating positional encoding\n",
        "    pe = torch.zeros(max_seq_length, d_model)\n",
        "\n",
        "    for pos in range(max_seq_length):\n",
        "      for i in range(d_model):\n",
        "        if i % 2 == 0:\n",
        "          pe[pos][i] = np.sin(pos/(10000 ** (i/d_model)))\n",
        "        else:\n",
        "          pe[pos][i] = np.cos(pos/(10000 ** ((i-1)/d_model)))\n",
        "\n",
        "    self.register_buffer('pe', pe.unsqueeze(0))\n",
        "\n",
        "  def forward(self, x):\n",
        "    # Expand to have class token for every image in batch\n",
        "    tokens_batch = self.cls_token.expand(x.size()[0], -1, -1)\n",
        "\n",
        "    # Adding class tokens to the beginning of each embedding\n",
        "    x = torch.cat((tokens_batch,x), dim=1)\n",
        "\n",
        "    # Add positional encoding to embeddings\n",
        "    x = x + self.pe\n",
        "\n",
        "    return x"
      ],
      "metadata": {
        "id": "_VQFqHbuPz9l"
      },
      "execution_count": 3,
      "outputs": []
    },
    {
      "cell_type": "code",
      "source": [
        "# Attention Head - scalar dot product\n",
        "\n",
        "class AttentionHead(nn.Module):\n",
        "  def __init__(self, d_model, head_size):\n",
        "    super().__init__()\n",
        "    self.head_size = head_size\n",
        "\n",
        "    self.query = nn.Linear(d_model, head_size)\n",
        "    self.key = nn.Linear(d_model, head_size)\n",
        "    self.value = nn.Linear(d_model, head_size)\n",
        "\n",
        "  def forward(self, x):\n",
        "    # Obtaining Queries, Keys, and Values\n",
        "    Q = self.query(x)\n",
        "    K = self.key(x)\n",
        "    V = self.value(x)\n",
        "\n",
        "    # Dot Product of Queries and Keys\n",
        "    attention = Q @ K.transpose(-2,-1)\n",
        "\n",
        "    # Scaling\n",
        "    attention = attention / (self.head_size ** 0.5)\n",
        "\n",
        "    attention = torch.softmax(attention, dim=-1)\n",
        "\n",
        "    attention = attention @ V\n",
        "\n",
        "    return attention"
      ],
      "metadata": {
        "id": "tfkY4OQ9P17V"
      },
      "execution_count": 4,
      "outputs": []
    },
    {
      "cell_type": "code",
      "source": [
        "#Multi Head Attention\n",
        "\n",
        "class MultiHeadAttention(nn.Module):\n",
        "  def __init__(self, d_model, n_heads):\n",
        "    super().__init__()\n",
        "    self.head_size = d_model // n_heads\n",
        "\n",
        "    self.W_o = nn.Linear(d_model, d_model)\n",
        "\n",
        "    self.heads = nn.ModuleList([AttentionHead(d_model, self.head_size) for _ in range(n_heads)])\n",
        "\n",
        "  def forward(self, x):\n",
        "    # Combine attention heads\n",
        "    out = torch.cat([head(x) for head in self.heads], dim=-1)\n",
        "\n",
        "    out = self.W_o(out)\n",
        "\n",
        "    return out"
      ],
      "metadata": {
        "id": "LuicmF1vP3vv"
      },
      "execution_count": 5,
      "outputs": []
    },
    {
      "cell_type": "code",
      "source": [
        "# Transformer Encoder\n",
        "\n",
        "class TransformerEncoder(nn.Module):\n",
        "  def __init__(self, d_model, n_heads, r_mlp=4):\n",
        "    super().__init__()\n",
        "    self.d_model = d_model\n",
        "    self.n_heads = n_heads\n",
        "\n",
        "    # Sub-Layer 1 Normalization\n",
        "    self.ln1 = nn.LayerNorm(d_model)\n",
        "\n",
        "    # Multi-Head Attention\n",
        "    self.mha = MultiHeadAttention(d_model, n_heads)\n",
        "\n",
        "    # Sub-Layer 2 Normalization\n",
        "    self.ln2 = nn.LayerNorm(d_model)\n",
        "\n",
        "    # Multilayer Perception\n",
        "    self.mlp = nn.Sequential(\n",
        "        nn.Linear(d_model, d_model*r_mlp),\n",
        "        nn.GELU(),\n",
        "        nn.Linear(d_model*r_mlp, d_model)\n",
        "    )\n",
        "\n",
        "  def forward(self, x):\n",
        "    # Residual Connection After Sub-Layer 1\n",
        "    out = x + self.mha(self.ln1(x))\n",
        "\n",
        "    # Residual Connection After Sub-Layer 2\n",
        "    out = out + self.mlp(self.ln2(out))\n",
        "\n",
        "    return out"
      ],
      "metadata": {
        "id": "NUEg7ImhP5dm"
      },
      "execution_count": 6,
      "outputs": []
    },
    {
      "cell_type": "code",
      "source": [
        "class VisionTransformer(nn.Module):\n",
        "  def __init__(self, d_model, n_classes, img_size, patch_size, n_channels, n_heads, n_layers):\n",
        "    super().__init__()\n",
        "\n",
        "    assert img_size[0] % patch_size[0] == 0 and img_size[1] % patch_size[1] == 0, \"img_size dimensions must be divisible by patch_size dimensions\"\n",
        "    assert d_model % n_heads == 0, \"d_model must be divisible by n_heads\"\n",
        "\n",
        "    self.d_model = d_model # Dimensionality of model\n",
        "    self.n_classes = n_classes # Number of classes\n",
        "    self.img_size = img_size # Image size\n",
        "    self.patch_size = patch_size # Patch size\n",
        "    self.n_channels = n_channels # Number of channels\n",
        "    self.n_heads = n_heads # Number of attention heads\n",
        "\n",
        "    self.n_patches = (self.img_size[0] * self.img_size[1]) // (self.patch_size[0] * self.patch_size[1])\n",
        "    self.max_seq_length = self.n_patches + 1\n",
        "\n",
        "    self.patch_embedding = PatchEmbedding(self.d_model, self.img_size, self.patch_size, self.n_channels)\n",
        "    self.positional_encoding = PositionalEncoding( self.d_model, self.max_seq_length)\n",
        "    self.transformer_encoder = nn.Sequential(*[TransformerEncoder( self.d_model, self.n_heads) for _ in range(n_layers)])\n",
        "\n",
        "    # Classification MLP\n",
        "    self.classifier = nn.Sequential(\n",
        "        nn.Linear(self.d_model, self.n_classes),\n",
        "        nn.Softmax(dim=-1)\n",
        "    )\n",
        "\n",
        "  def forward(self, images):\n",
        "    x = self.patch_embedding(images)\n",
        "\n",
        "    x = self.positional_encoding(x)\n",
        "\n",
        "    x = self.transformer_encoder(x)\n",
        "\n",
        "    x = self.classifier(x[:,0])\n",
        "\n",
        "    return x"
      ],
      "metadata": {
        "id": "tK9PVHRXP7OZ"
      },
      "execution_count": 7,
      "outputs": []
    },
    {
      "cell_type": "code",
      "source": [
        "#Vit Training Parameters\n",
        "\n",
        "d_model = 96\n",
        "n_classes = 10\n",
        "img_size = (32, 32)\n",
        "patch_size = (4, 4)\n",
        "n_channels = 1\n",
        "n_heads = 3\n",
        "n_layers = 4\n",
        "batch_size = 128\n",
        "epochs = 10\n",
        "alpha = 0.005"
      ],
      "metadata": {
        "id": "j-TbujfeP9Ok"
      },
      "execution_count": 8,
      "outputs": []
    },
    {
      "cell_type": "code",
      "source": [
        "#Loading Dataset\n",
        "\n",
        "transform = T.Compose([\n",
        "    T.Resize(img_size),\n",
        "    T.ToTensor()\n",
        "])\n",
        "\n",
        "train_set = FashionMNIST(\n",
        "    root=\"./../datasets\", train=True, download=True, transform=transform\n",
        ")\n",
        "test_set = FashionMNIST(\n",
        "    root=\"./../datasets\", train=False, download=True, transform=transform\n",
        ")\n",
        "\n",
        "train_loader = DataLoader(train_set, shuffle=True, batch_size=batch_size)\n",
        "test_loader = DataLoader(test_set, shuffle=False, batch_size=batch_size)"
      ],
      "metadata": {
        "colab": {
          "base_uri": "https://localhost:8080/"
        },
        "id": "3aqmkCP1P-8E",
        "outputId": "1affe635-a895-404f-abd1-831813f1b4d9"
      },
      "execution_count": 9,
      "outputs": [
        {
          "output_type": "stream",
          "name": "stderr",
          "text": [
            "100%|██████████| 26.4M/26.4M [00:01<00:00, 13.3MB/s]\n",
            "100%|██████████| 29.5k/29.5k [00:00<00:00, 210kB/s]\n",
            "100%|██████████| 4.42M/4.42M [00:01<00:00, 3.86MB/s]\n",
            "100%|██████████| 5.15k/5.15k [00:00<00:00, 20.2MB/s]\n"
          ]
        }
      ]
    },
    {
      "cell_type": "code",
      "source": [
        "# Training\n",
        "\n",
        "device = torch.device(\"cuda\" if torch.cuda.is_available() else \"cpu\")\n",
        "print(\"Using device:\", device)\n",
        "\n",
        "model = VisionTransformer(d_model, n_classes, img_size, patch_size, n_channels, n_heads, n_layers).to(device)\n",
        "\n",
        "optimizer = Adam(model.parameters(), lr=alpha)\n",
        "criterion = nn.CrossEntropyLoss()\n",
        "\n",
        "for epoch in range(epochs):\n",
        "    model.train()\n",
        "    training_loss = 0.0\n",
        "    for inputs, labels in train_loader:\n",
        "        inputs, labels = inputs.to(device), labels.to(device)\n",
        "\n",
        "        optimizer.zero_grad()\n",
        "        outputs = model(inputs)\n",
        "        loss = criterion(outputs, labels)\n",
        "        loss.backward()\n",
        "        optimizer.step()\n",
        "        training_loss += loss.item()\n",
        "\n",
        "    print(f\"Epoch {epoch+1}/{epochs}, Loss: {training_loss / len(train_loader):.3f}\")\n"
      ],
      "metadata": {
        "colab": {
          "base_uri": "https://localhost:8080/"
        },
        "id": "h-th2gIfQAdr",
        "outputId": "3672c9a3-3014-4751-cafd-93b94ebc7fd8"
      },
      "execution_count": 10,
      "outputs": [
        {
          "output_type": "stream",
          "name": "stdout",
          "text": [
            "Using device: cuda\n",
            "Epoch 1/10, Loss: 2.361\n",
            "Epoch 2/10, Loss: 2.361\n",
            "Epoch 3/10, Loss: 2.361\n",
            "Epoch 4/10, Loss: 2.361\n",
            "Epoch 5/10, Loss: 2.361\n",
            "Epoch 6/10, Loss: 2.361\n",
            "Epoch 7/10, Loss: 2.361\n",
            "Epoch 8/10, Loss: 2.361\n",
            "Epoch 9/10, Loss: 2.361\n",
            "Epoch 10/10, Loss: 2.361\n"
          ]
        }
      ]
    },
    {
      "cell_type": "code",
      "source": [
        "correct = 0\n",
        "total = 0\n",
        "\n",
        "with torch.no_grad():\n",
        "    for inputs, labels in test_loader:\n",
        "        inputs, labels = inputs.to(device), labels.to(device)\n",
        "        outputs = model(inputs)\n",
        "        _, predicted = torch.max(outputs.data, 1)\n",
        "        total += labels.size(0)\n",
        "        correct += (predicted == labels).sum().item()\n",
        "\n",
        "print(f\"\\nFashionMNIST ViT Accuracy: {100 * correct / total:.2f} %\")"
      ],
      "metadata": {
        "colab": {
          "base_uri": "https://localhost:8080/"
        },
        "id": "1U892EG_QCkk",
        "outputId": "f99a588a-e371-4047-e7a4-3062bf3c3b95"
      },
      "execution_count": 11,
      "outputs": [
        {
          "output_type": "stream",
          "name": "stdout",
          "text": [
            "\n",
            "FashionMNIST ViT Accuracy: 10.00 %\n"
          ]
        }
      ]
    },
    {
      "cell_type": "code",
      "source": [],
      "metadata": {
        "id": "qbXT4qPZRF6m"
      },
      "execution_count": null,
      "outputs": []
    }
  ]
}